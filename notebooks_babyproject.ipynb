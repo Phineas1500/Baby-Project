{
  "metadata": {
    "language_info": {
      "codemirror_mode": {
        "name": "python",
        "version": 3
      },
      "file_extension": ".py",
      "mimetype": "text/x-python",
      "name": "python",
      "nbconvert_exporter": "python",
      "pygments_lexer": "ipython3",
      "version": "3.8"
    },
    "kernelspec": {
      "name": "python",
      "display_name": "Python (Pyodide)",
      "language": "python"
    }
  },
  "nbformat_minor": 4,
  "nbformat": 4,
  "cells": [
    {
      "cell_type": "code",
      "source": "import pandas\nimport json",
      "metadata": {
        "trusted": true
      },
      "execution_count": 12,
      "outputs": []
    },
    {
      "cell_type": "code",
      "source": "with open('0a58ef5a-9f01-49bc-9bb7-f13ab042b80f_noPII.json') as data_file:   \n    data1 = json.load(data_file)\nwith open('0ab502fb-87e9-4764-8bc8-778da2e2bcfb_noPII.json') as data_file:   \n    data2 = json.load(data_file)\nwith open('0be25f06-b139-424d-8f78-f945dd32f1c9_noPII.json') as data_file:   \n    data3 = json.load(data_file)",
      "metadata": {
        "trusted": true
      },
      "execution_count": 7,
      "outputs": []
    },
    {
      "cell_type": "code",
      "source": "#data1",
      "metadata": {
        "trusted": true
      },
      "execution_count": 23,
      "outputs": []
    },
    {
      "cell_type": "code",
      "source": "df_accounts = pandas.json_normalize(data1, record_path = ['AccountAllocations', 'Accounts'])[['Key', 'Description']]",
      "metadata": {
        "trusted": true
      },
      "execution_count": 31,
      "outputs": []
    },
    {
      "cell_type": "code",
      "source": "df_accounts",
      "metadata": {
        "trusted": true
      },
      "execution_count": 32,
      "outputs": [
        {
          "execution_count": 32,
          "output_type": "execute_result",
          "data": {
            "text/plain": "       Key                           Description\n0    Fixed                                 Fixed\n1  FixedLT                               FixedLT\n2     1YrA                1-Year Indexed Account\n3     1YrD         1-Year No Cap Indexed Account\n4     1YrF  1-Year High Cap Plus Indexed Account\n5      Var                      Variable Account",
            "text/html": "<div>\n<style scoped>\n    .dataframe tbody tr th:only-of-type {\n        vertical-align: middle;\n    }\n\n    .dataframe tbody tr th {\n        vertical-align: top;\n    }\n\n    .dataframe thead th {\n        text-align: right;\n    }\n</style>\n<table border=\"1\" class=\"dataframe\">\n  <thead>\n    <tr style=\"text-align: right;\">\n      <th></th>\n      <th>Key</th>\n      <th>Description</th>\n    </tr>\n  </thead>\n  <tbody>\n    <tr>\n      <th>0</th>\n      <td>Fixed</td>\n      <td>Fixed</td>\n    </tr>\n    <tr>\n      <th>1</th>\n      <td>FixedLT</td>\n      <td>FixedLT</td>\n    </tr>\n    <tr>\n      <th>2</th>\n      <td>1YrA</td>\n      <td>1-Year Indexed Account</td>\n    </tr>\n    <tr>\n      <th>3</th>\n      <td>1YrD</td>\n      <td>1-Year No Cap Indexed Account</td>\n    </tr>\n    <tr>\n      <th>4</th>\n      <td>1YrF</td>\n      <td>1-Year High Cap Plus Indexed Account</td>\n    </tr>\n    <tr>\n      <th>5</th>\n      <td>Var</td>\n      <td>Variable Account</td>\n    </tr>\n  </tbody>\n</table>\n</div>"
          },
          "metadata": {}
        }
      ]
    },
    {
      "cell_type": "code",
      "source": "df_allocations = pandas.json_normalize(data1, record_path = ['AccountAllocations', 'Accounts', 'FutureAllocations'], meta = [['AccountAllocations', 'Accounts', 'Key'], ['AccountAllocations', 'Accounts', 'Description']])[['AllocationPct', 'AccountAllocations.Accounts.Description']]",
      "metadata": {
        "trusted": true
      },
      "execution_count": 51,
      "outputs": []
    },
    {
      "cell_type": "code",
      "source": "df_allocations = pandas.json_normalize(data1, record_path = ['FundAllocationFuture'])\n\ndf_allocations2 = pandas.json_normalize(data1, record_path = ['FundAllocationFuture'])\n\ndf_allocations3 = pandas.json_normalize(data1, record_path = ['FundAllocationFuture'])",
      "metadata": {
        "trusted": true
      },
      "execution_count": 65,
      "outputs": []
    },
    {
      "cell_type": "code",
      "source": "df_allocations",
      "metadata": {
        "trusted": true
      },
      "execution_count": 66,
      "outputs": [
        {
          "execution_count": 66,
          "output_type": "execute_result",
          "data": {
            "text/plain": "     Key                        Name   Manager Allocation      Type  \\\n0  VNGMI  Vanguard VIF Mid Cap Index  Vanguard       100%  Variable   \n\n          Category      Group InceptionDate  ManagementFees  \\\n0  Domestic Equity  IFR Funds    1999-02-09            0.15   \n\n   OperatingExpenses IFRCharge    AsOfDate     Asset  \\\n0               0.02     0.39%  2020-12-31  0.001301   \n\n                                      HistoricalData  \n0  [{'Year': '1999', 'RateOfReturn': '0'}, {'Year...  ",
            "text/html": "<div>\n<style scoped>\n    .dataframe tbody tr th:only-of-type {\n        vertical-align: middle;\n    }\n\n    .dataframe tbody tr th {\n        vertical-align: top;\n    }\n\n    .dataframe thead th {\n        text-align: right;\n    }\n</style>\n<table border=\"1\" class=\"dataframe\">\n  <thead>\n    <tr style=\"text-align: right;\">\n      <th></th>\n      <th>Key</th>\n      <th>Name</th>\n      <th>Manager</th>\n      <th>Allocation</th>\n      <th>Type</th>\n      <th>Category</th>\n      <th>Group</th>\n      <th>InceptionDate</th>\n      <th>ManagementFees</th>\n      <th>OperatingExpenses</th>\n      <th>IFRCharge</th>\n      <th>AsOfDate</th>\n      <th>Asset</th>\n      <th>HistoricalData</th>\n    </tr>\n  </thead>\n  <tbody>\n    <tr>\n      <th>0</th>\n      <td>VNGMI</td>\n      <td>Vanguard VIF Mid Cap Index</td>\n      <td>Vanguard</td>\n      <td>100%</td>\n      <td>Variable</td>\n      <td>Domestic Equity</td>\n      <td>IFR Funds</td>\n      <td>1999-02-09</td>\n      <td>0.15</td>\n      <td>0.02</td>\n      <td>0.39%</td>\n      <td>2020-12-31</td>\n      <td>0.001301</td>\n      <td>[{'Year': '1999', 'RateOfReturn': '0'}, {'Year...</td>\n    </tr>\n  </tbody>\n</table>\n</div>"
          },
          "metadata": {}
        }
      ]
    },
    {
      "cell_type": "code",
      "source": "df_allocations2",
      "metadata": {
        "trusted": true
      },
      "execution_count": 67,
      "outputs": [
        {
          "execution_count": 67,
          "output_type": "execute_result",
          "data": {
            "text/plain": "     Key                        Name   Manager Allocation      Type  \\\n0  VNGMI  Vanguard VIF Mid Cap Index  Vanguard       100%  Variable   \n\n          Category      Group InceptionDate  ManagementFees  \\\n0  Domestic Equity  IFR Funds    1999-02-09            0.15   \n\n   OperatingExpenses IFRCharge    AsOfDate     Asset  \\\n0               0.02     0.39%  2020-12-31  0.001301   \n\n                                      HistoricalData  \n0  [{'Year': '1999', 'RateOfReturn': '0'}, {'Year...  ",
            "text/html": "<div>\n<style scoped>\n    .dataframe tbody tr th:only-of-type {\n        vertical-align: middle;\n    }\n\n    .dataframe tbody tr th {\n        vertical-align: top;\n    }\n\n    .dataframe thead th {\n        text-align: right;\n    }\n</style>\n<table border=\"1\" class=\"dataframe\">\n  <thead>\n    <tr style=\"text-align: right;\">\n      <th></th>\n      <th>Key</th>\n      <th>Name</th>\n      <th>Manager</th>\n      <th>Allocation</th>\n      <th>Type</th>\n      <th>Category</th>\n      <th>Group</th>\n      <th>InceptionDate</th>\n      <th>ManagementFees</th>\n      <th>OperatingExpenses</th>\n      <th>IFRCharge</th>\n      <th>AsOfDate</th>\n      <th>Asset</th>\n      <th>HistoricalData</th>\n    </tr>\n  </thead>\n  <tbody>\n    <tr>\n      <th>0</th>\n      <td>VNGMI</td>\n      <td>Vanguard VIF Mid Cap Index</td>\n      <td>Vanguard</td>\n      <td>100%</td>\n      <td>Variable</td>\n      <td>Domestic Equity</td>\n      <td>IFR Funds</td>\n      <td>1999-02-09</td>\n      <td>0.15</td>\n      <td>0.02</td>\n      <td>0.39%</td>\n      <td>2020-12-31</td>\n      <td>0.001301</td>\n      <td>[{'Year': '1999', 'RateOfReturn': '0'}, {'Year...</td>\n    </tr>\n  </tbody>\n</table>\n</div>"
          },
          "metadata": {}
        }
      ]
    },
    {
      "cell_type": "code",
      "source": "df_allocations3",
      "metadata": {
        "trusted": true
      },
      "execution_count": 68,
      "outputs": [
        {
          "execution_count": 68,
          "output_type": "execute_result",
          "data": {
            "text/plain": "     Key                        Name   Manager Allocation      Type  \\\n0  VNGMI  Vanguard VIF Mid Cap Index  Vanguard       100%  Variable   \n\n          Category      Group InceptionDate  ManagementFees  \\\n0  Domestic Equity  IFR Funds    1999-02-09            0.15   \n\n   OperatingExpenses IFRCharge    AsOfDate     Asset  \\\n0               0.02     0.39%  2020-12-31  0.001301   \n\n                                      HistoricalData  \n0  [{'Year': '1999', 'RateOfReturn': '0'}, {'Year...  ",
            "text/html": "<div>\n<style scoped>\n    .dataframe tbody tr th:only-of-type {\n        vertical-align: middle;\n    }\n\n    .dataframe tbody tr th {\n        vertical-align: top;\n    }\n\n    .dataframe thead th {\n        text-align: right;\n    }\n</style>\n<table border=\"1\" class=\"dataframe\">\n  <thead>\n    <tr style=\"text-align: right;\">\n      <th></th>\n      <th>Key</th>\n      <th>Name</th>\n      <th>Manager</th>\n      <th>Allocation</th>\n      <th>Type</th>\n      <th>Category</th>\n      <th>Group</th>\n      <th>InceptionDate</th>\n      <th>ManagementFees</th>\n      <th>OperatingExpenses</th>\n      <th>IFRCharge</th>\n      <th>AsOfDate</th>\n      <th>Asset</th>\n      <th>HistoricalData</th>\n    </tr>\n  </thead>\n  <tbody>\n    <tr>\n      <th>0</th>\n      <td>VNGMI</td>\n      <td>Vanguard VIF Mid Cap Index</td>\n      <td>Vanguard</td>\n      <td>100%</td>\n      <td>Variable</td>\n      <td>Domestic Equity</td>\n      <td>IFR Funds</td>\n      <td>1999-02-09</td>\n      <td>0.15</td>\n      <td>0.02</td>\n      <td>0.39%</td>\n      <td>2020-12-31</td>\n      <td>0.001301</td>\n      <td>[{'Year': '1999', 'RateOfReturn': '0'}, {'Year...</td>\n    </tr>\n  </tbody>\n</table>\n</div>"
          },
          "metadata": {}
        }
      ]
    },
    {
      "cell_type": "code",
      "source": "#data2",
      "metadata": {
        "trusted": true
      },
      "execution_count": 45,
      "outputs": []
    },
    {
      "cell_type": "code",
      "source": "df_allocations2 = pandas.json_normalize(data2, record_path = ['AccountAllocations', 'Accounts', 'FutureAllocations'], meta = [['AccountAllocations', 'Accounts', 'Key'], ['AccountAllocations', 'Accounts', 'Description']])[['AllocationPct', 'AccountAllocations.Accounts.Description']]",
      "metadata": {
        "trusted": true
      },
      "execution_count": 53,
      "outputs": []
    },
    {
      "cell_type": "code",
      "source": "df_allocations2",
      "metadata": {
        "trusted": true
      },
      "execution_count": 54,
      "outputs": [
        {
          "execution_count": 54,
          "output_type": "execute_result",
          "data": {
            "text/plain": "   AllocationPct AccountAllocations.Accounts.Description\n0              0                                   Fixed\n1              0                                 FixedLT\n2              0                  1-Year Indexed Account\n3              0           1-Year No Cap Indexed Account\n4              0    1-Year High Cap Plus Indexed Account\n5            100                        Variable Account",
            "text/html": "<div>\n<style scoped>\n    .dataframe tbody tr th:only-of-type {\n        vertical-align: middle;\n    }\n\n    .dataframe tbody tr th {\n        vertical-align: top;\n    }\n\n    .dataframe thead th {\n        text-align: right;\n    }\n</style>\n<table border=\"1\" class=\"dataframe\">\n  <thead>\n    <tr style=\"text-align: right;\">\n      <th></th>\n      <th>AllocationPct</th>\n      <th>AccountAllocations.Accounts.Description</th>\n    </tr>\n  </thead>\n  <tbody>\n    <tr>\n      <th>0</th>\n      <td>0</td>\n      <td>Fixed</td>\n    </tr>\n    <tr>\n      <th>1</th>\n      <td>0</td>\n      <td>FixedLT</td>\n    </tr>\n    <tr>\n      <th>2</th>\n      <td>0</td>\n      <td>1-Year Indexed Account</td>\n    </tr>\n    <tr>\n      <th>3</th>\n      <td>0</td>\n      <td>1-Year No Cap Indexed Account</td>\n    </tr>\n    <tr>\n      <th>4</th>\n      <td>0</td>\n      <td>1-Year High Cap Plus Indexed Account</td>\n    </tr>\n    <tr>\n      <th>5</th>\n      <td>100</td>\n      <td>Variable Account</td>\n    </tr>\n  </tbody>\n</table>\n</div>"
          },
          "metadata": {}
        }
      ]
    },
    {
      "cell_type": "code",
      "source": "#data3",
      "metadata": {},
      "execution_count": null,
      "outputs": []
    },
    {
      "cell_type": "code",
      "source": "df_allocations3 = pandas.json_normalize(data3, record_path = ['AccountAllocations', 'Accounts', 'FutureAllocations'], meta = [['AccountAllocations', 'Accounts', 'Key'], ['AccountAllocations', 'Accounts', 'Description']])[['AllocationPct', 'AccountAllocations.Accounts.Description']]",
      "metadata": {
        "trusted": true
      },
      "execution_count": 55,
      "outputs": []
    },
    {
      "cell_type": "code",
      "source": "df_allocations3",
      "metadata": {
        "trusted": true
      },
      "execution_count": 62,
      "outputs": [
        {
          "execution_count": 62,
          "output_type": "execute_result",
          "data": {
            "text/plain": "   AllocationPct AccountAllocations.Accounts.Description\n0              0                                   Fixed\n1              0                                 FixedLT\n2              0                  1-Year Indexed Account\n3              0           1-Year No Cap Indexed Account\n4              0    1-Year High Cap Plus Indexed Account\n5            100                        Variable Account",
            "text/html": "<div>\n<style scoped>\n    .dataframe tbody tr th:only-of-type {\n        vertical-align: middle;\n    }\n\n    .dataframe tbody tr th {\n        vertical-align: top;\n    }\n\n    .dataframe thead th {\n        text-align: right;\n    }\n</style>\n<table border=\"1\" class=\"dataframe\">\n  <thead>\n    <tr style=\"text-align: right;\">\n      <th></th>\n      <th>AllocationPct</th>\n      <th>AccountAllocations.Accounts.Description</th>\n    </tr>\n  </thead>\n  <tbody>\n    <tr>\n      <th>0</th>\n      <td>0</td>\n      <td>Fixed</td>\n    </tr>\n    <tr>\n      <th>1</th>\n      <td>0</td>\n      <td>FixedLT</td>\n    </tr>\n    <tr>\n      <th>2</th>\n      <td>0</td>\n      <td>1-Year Indexed Account</td>\n    </tr>\n    <tr>\n      <th>3</th>\n      <td>0</td>\n      <td>1-Year No Cap Indexed Account</td>\n    </tr>\n    <tr>\n      <th>4</th>\n      <td>0</td>\n      <td>1-Year High Cap Plus Indexed Account</td>\n    </tr>\n    <tr>\n      <th>5</th>\n      <td>100</td>\n      <td>Variable Account</td>\n    </tr>\n  </tbody>\n</table>\n</div>"
          },
          "metadata": {}
        }
      ]
    },
    {
      "cell_type": "code",
      "source": "merge = df_allocations.merge(df_allocations2, on = 'AccountAllocations.Accounts.Description')\nmerge = merge.merge(df_allocations3, on = 'AccountAllocations.Accounts.Description')\nmerge",
      "metadata": {
        "trusted": true
      },
      "execution_count": 64,
      "outputs": [
        {
          "execution_count": 64,
          "output_type": "execute_result",
          "data": {
            "text/plain": "   AllocationPct_x AccountAllocations.Accounts.Description  AllocationPct_y  \\\n0                0                                   Fixed                0   \n1                0                                 FixedLT                0   \n2                0                  1-Year Indexed Account                0   \n3                0           1-Year No Cap Indexed Account                0   \n4                0    1-Year High Cap Plus Indexed Account                0   \n5              100                        Variable Account              100   \n\n   AllocationPct  \n0              0  \n1              0  \n2              0  \n3              0  \n4              0  \n5            100  ",
            "text/html": "<div>\n<style scoped>\n    .dataframe tbody tr th:only-of-type {\n        vertical-align: middle;\n    }\n\n    .dataframe tbody tr th {\n        vertical-align: top;\n    }\n\n    .dataframe thead th {\n        text-align: right;\n    }\n</style>\n<table border=\"1\" class=\"dataframe\">\n  <thead>\n    <tr style=\"text-align: right;\">\n      <th></th>\n      <th>AllocationPct_x</th>\n      <th>AccountAllocations.Accounts.Description</th>\n      <th>AllocationPct_y</th>\n      <th>AllocationPct</th>\n    </tr>\n  </thead>\n  <tbody>\n    <tr>\n      <th>0</th>\n      <td>0</td>\n      <td>Fixed</td>\n      <td>0</td>\n      <td>0</td>\n    </tr>\n    <tr>\n      <th>1</th>\n      <td>0</td>\n      <td>FixedLT</td>\n      <td>0</td>\n      <td>0</td>\n    </tr>\n    <tr>\n      <th>2</th>\n      <td>0</td>\n      <td>1-Year Indexed Account</td>\n      <td>0</td>\n      <td>0</td>\n    </tr>\n    <tr>\n      <th>3</th>\n      <td>0</td>\n      <td>1-Year No Cap Indexed Account</td>\n      <td>0</td>\n      <td>0</td>\n    </tr>\n    <tr>\n      <th>4</th>\n      <td>0</td>\n      <td>1-Year High Cap Plus Indexed Account</td>\n      <td>0</td>\n      <td>0</td>\n    </tr>\n    <tr>\n      <th>5</th>\n      <td>100</td>\n      <td>Variable Account</td>\n      <td>100</td>\n      <td>100</td>\n    </tr>\n  </tbody>\n</table>\n</div>"
          },
          "metadata": {}
        }
      ]
    },
    {
      "cell_type": "code",
      "source": "merge = pandas.json_normalize(data1, record_path = ['Riders'])",
      "metadata": {
        "trusted": true
      },
      "execution_count": 69,
      "outputs": []
    },
    {
      "cell_type": "code",
      "source": "merge",
      "metadata": {
        "trusted": true
      },
      "execution_count": 70,
      "outputs": [
        {
          "execution_count": 70,
          "output_type": "execute_result",
          "data": {
            "text/plain": "   Idx   Category                                               Name  \\\n0    1  Automatic                                   Conversion Rider   \n1    2  Automatic                      Minimum Indexed Benefit Rider   \n2    3  Automatic                        Overloan Protection 3 Rider   \n3    4   Optional  Accelerated Death Benefit Rider for Chronic an...   \n4    5  Automatic  No Lapse Guarantee Rider (Short-Term No Lapse ...   \n5    6   Optional  Accelerated Death Benefit Rider for Terminal I...   \n\n          Remark  \n0            NaN  \n1            NaN  \n2            NaN  \n3  Check Opt Out  \n4            NaN  \n5          Added  ",
            "text/html": "<div>\n<style scoped>\n    .dataframe tbody tr th:only-of-type {\n        vertical-align: middle;\n    }\n\n    .dataframe tbody tr th {\n        vertical-align: top;\n    }\n\n    .dataframe thead th {\n        text-align: right;\n    }\n</style>\n<table border=\"1\" class=\"dataframe\">\n  <thead>\n    <tr style=\"text-align: right;\">\n      <th></th>\n      <th>Idx</th>\n      <th>Category</th>\n      <th>Name</th>\n      <th>Remark</th>\n    </tr>\n  </thead>\n  <tbody>\n    <tr>\n      <th>0</th>\n      <td>1</td>\n      <td>Automatic</td>\n      <td>Conversion Rider</td>\n      <td>NaN</td>\n    </tr>\n    <tr>\n      <th>1</th>\n      <td>2</td>\n      <td>Automatic</td>\n      <td>Minimum Indexed Benefit Rider</td>\n      <td>NaN</td>\n    </tr>\n    <tr>\n      <th>2</th>\n      <td>3</td>\n      <td>Automatic</td>\n      <td>Overloan Protection 3 Rider</td>\n      <td>NaN</td>\n    </tr>\n    <tr>\n      <th>3</th>\n      <td>4</td>\n      <td>Optional</td>\n      <td>Accelerated Death Benefit Rider for Chronic an...</td>\n      <td>Check Opt Out</td>\n    </tr>\n    <tr>\n      <th>4</th>\n      <td>5</td>\n      <td>Automatic</td>\n      <td>No Lapse Guarantee Rider (Short-Term No Lapse ...</td>\n      <td>NaN</td>\n    </tr>\n    <tr>\n      <th>5</th>\n      <td>6</td>\n      <td>Optional</td>\n      <td>Accelerated Death Benefit Rider for Terminal I...</td>\n      <td>Added</td>\n    </tr>\n  </tbody>\n</table>\n</div>"
          },
          "metadata": {}
        }
      ]
    },
    {
      "cell_type": "markdown",
      "source": "Conversion Rider, Minimum Indexed Benefit Rider, Overloan Protection 3 Rider, and No Lapse Guarantee Rider (Short-Term No Lapse Guarantee) are Automatic.",
      "metadata": {}
    },
    {
      "cell_type": "code",
      "source": "A Terminal Illness Rider gives the policy holder access to part of the coverage amount if he or she has been diagnosed as terminally ill with a life expectancy of 12 months or less. As a result of using life insurance funds early, after death the payout will be reduced by more than the rider payment.",
      "metadata": {},
      "execution_count": null,
      "outputs": []
    },
    {
      "cell_type": "code",
      "source": "An Overloan Protection 3 Rider guarantees that a life insurance policy will not lapse.",
      "metadata": {},
      "execution_count": null,
      "outputs": []
    },
    {
      "cell_type": "code",
      "source": "Accelerated Death Benefit Rider for Chronic and Terminal Illness (Premier Living Benefits Rider 2) and Accelerated Death Benefit Rider for Terminal Illness (Terminal Illness Rider) are Optional.",
      "metadata": {},
      "execution_count": null,
      "outputs": []
    },
    {
      "cell_type": "code",
      "source": "A Minimum Indexed Benefit Rider is provided at no extra cost and provides a credit to charges to the account.",
      "metadata": {},
      "execution_count": null,
      "outputs": []
    },
    {
      "cell_type": "code",
      "source": "A Conversion Rider allows the owner to convert their policy into cash at the 8th year of owning the policy.",
      "metadata": {},
      "execution_count": null,
      "outputs": []
    },
    {
      "cell_type": "code",
      "source": "A Short-Term No Lapse Guarantee Rider is provided at no extra cost and guarantees that the Death Benefit is guaranteed.",
      "metadata": {},
      "execution_count": null,
      "outputs": []
    }
  ]
}