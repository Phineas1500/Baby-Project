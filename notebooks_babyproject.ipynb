{
  "metadata": {
    "language_info": {
      "codemirror_mode": {
        "name": "python",
        "version": 3
      },
      "file_extension": ".py",
      "mimetype": "text/x-python",
      "name": "python",
      "nbconvert_exporter": "python",
      "pygments_lexer": "ipython3",
      "version": "3.8"
    },
    "kernelspec": {
      "name": "python",
      "display_name": "Python (Pyodide)",
      "language": "python"
    }
  },
  "nbformat_minor": 4,
  "nbformat": 4,
  "cells": [
    {
      "cell_type": "code",
      "source": "import pandas\nimport json",
      "metadata": {
        "trusted": true
      },
      "execution_count": 12,
      "outputs": []
    },
    {
      "cell_type": "code",
      "source": "with open('0a58ef5a-9f01-49bc-9bb7-f13ab042b80f_noPII.json') as data_file:   \n    data1 = json.load(data_file)\nwith open('0ab502fb-87e9-4764-8bc8-778da2e2bcfb_noPII.json') as data_file:   \n    data2 = json.load(data_file)\nwith open('0be25f06-b139-424d-8f78-f945dd32f1c9_noPII.json') as data_file:   \n    data3 = json.load(data_file)",
      "metadata": {
        "trusted": true
      },
      "execution_count": 7,
      "outputs": []
    },
    {
      "cell_type": "code",
      "source": "#data1",
      "metadata": {
        "trusted": true
      },
      "execution_count": 23,
      "outputs": []
    },
    {
      "cell_type": "code",
      "source": "df_accounts = pandas.json_normalize(data1, record_path = ['AccountAllocations', 'Accounts'])[['Key', 'Description']]",
      "metadata": {
        "trusted": true
      },
      "execution_count": 31,
      "outputs": []
    },
    {
      "cell_type": "code",
      "source": "df_accounts",
      "metadata": {
        "trusted": true
      },
      "execution_count": 32,
      "outputs": [
        {
          "execution_count": 32,
          "output_type": "execute_result",
          "data": {
            "text/plain": "       Key                           Description\n0    Fixed                                 Fixed\n1  FixedLT                               FixedLT\n2     1YrA                1-Year Indexed Account\n3     1YrD         1-Year No Cap Indexed Account\n4     1YrF  1-Year High Cap Plus Indexed Account\n5      Var                      Variable Account",
            "text/html": "<div>\n<style scoped>\n    .dataframe tbody tr th:only-of-type {\n        vertical-align: middle;\n    }\n\n    .dataframe tbody tr th {\n        vertical-align: top;\n    }\n\n    .dataframe thead th {\n        text-align: right;\n    }\n</style>\n<table border=\"1\" class=\"dataframe\">\n  <thead>\n    <tr style=\"text-align: right;\">\n      <th></th>\n      <th>Key</th>\n      <th>Description</th>\n    </tr>\n  </thead>\n  <tbody>\n    <tr>\n      <th>0</th>\n      <td>Fixed</td>\n      <td>Fixed</td>\n    </tr>\n    <tr>\n      <th>1</th>\n      <td>FixedLT</td>\n      <td>FixedLT</td>\n    </tr>\n    <tr>\n      <th>2</th>\n      <td>1YrA</td>\n      <td>1-Year Indexed Account</td>\n    </tr>\n    <tr>\n      <th>3</th>\n      <td>1YrD</td>\n      <td>1-Year No Cap Indexed Account</td>\n    </tr>\n    <tr>\n      <th>4</th>\n      <td>1YrF</td>\n      <td>1-Year High Cap Plus Indexed Account</td>\n    </tr>\n    <tr>\n      <th>5</th>\n      <td>Var</td>\n      <td>Variable Account</td>\n    </tr>\n  </tbody>\n</table>\n</div>"
          },
          "metadata": {}
        }
      ]
    },
    {
      "cell_type": "code",
      "source": "df_allocations = pandas.json_normalize(data1, record_path = ['AccountAllocations', 'Accounts', 'FutureAllocations'], meta = [['AccountAllocations', 'Accounts', 'Key'], ['AccountAllocations', 'Accounts', 'Description']])[['AllocationPct', 'AccountAllocations.Accounts.Description']]",
      "metadata": {
        "trusted": true
      },
      "execution_count": 51,
      "outputs": []
    },
    {
      "cell_type": "code",
      "source": "df_allocations",
      "metadata": {
        "trusted": true
      },
      "execution_count": 52,
      "outputs": [
        {
          "execution_count": 52,
          "output_type": "execute_result",
          "data": {
            "text/plain": "   AllocationPct AccountAllocations.Accounts.Description\n0              0                                   Fixed\n1              0                                 FixedLT\n2              0                  1-Year Indexed Account\n3              0           1-Year No Cap Indexed Account\n4              0    1-Year High Cap Plus Indexed Account\n5            100                        Variable Account",
            "text/html": "<div>\n<style scoped>\n    .dataframe tbody tr th:only-of-type {\n        vertical-align: middle;\n    }\n\n    .dataframe tbody tr th {\n        vertical-align: top;\n    }\n\n    .dataframe thead th {\n        text-align: right;\n    }\n</style>\n<table border=\"1\" class=\"dataframe\">\n  <thead>\n    <tr style=\"text-align: right;\">\n      <th></th>\n      <th>AllocationPct</th>\n      <th>AccountAllocations.Accounts.Description</th>\n    </tr>\n  </thead>\n  <tbody>\n    <tr>\n      <th>0</th>\n      <td>0</td>\n      <td>Fixed</td>\n    </tr>\n    <tr>\n      <th>1</th>\n      <td>0</td>\n      <td>FixedLT</td>\n    </tr>\n    <tr>\n      <th>2</th>\n      <td>0</td>\n      <td>1-Year Indexed Account</td>\n    </tr>\n    <tr>\n      <th>3</th>\n      <td>0</td>\n      <td>1-Year No Cap Indexed Account</td>\n    </tr>\n    <tr>\n      <th>4</th>\n      <td>0</td>\n      <td>1-Year High Cap Plus Indexed Account</td>\n    </tr>\n    <tr>\n      <th>5</th>\n      <td>100</td>\n      <td>Variable Account</td>\n    </tr>\n  </tbody>\n</table>\n</div>"
          },
          "metadata": {}
        }
      ]
    },
    {
      "cell_type": "code",
      "source": "#data2",
      "metadata": {
        "trusted": true
      },
      "execution_count": 45,
      "outputs": []
    },
    {
      "cell_type": "code",
      "source": "df_allocations2 = pandas.json_normalize(data2, record_path = ['AccountAllocations', 'Accounts', 'FutureAllocations'], meta = [['AccountAllocations', 'Accounts', 'Key'], ['AccountAllocations', 'Accounts', 'Description']])[['AllocationPct', 'AccountAllocations.Accounts.Description']]",
      "metadata": {
        "trusted": true
      },
      "execution_count": 53,
      "outputs": []
    },
    {
      "cell_type": "code",
      "source": "df_allocations2",
      "metadata": {
        "trusted": true
      },
      "execution_count": 54,
      "outputs": [
        {
          "execution_count": 54,
          "output_type": "execute_result",
          "data": {
            "text/plain": "   AllocationPct AccountAllocations.Accounts.Description\n0              0                                   Fixed\n1              0                                 FixedLT\n2              0                  1-Year Indexed Account\n3              0           1-Year No Cap Indexed Account\n4              0    1-Year High Cap Plus Indexed Account\n5            100                        Variable Account",
            "text/html": "<div>\n<style scoped>\n    .dataframe tbody tr th:only-of-type {\n        vertical-align: middle;\n    }\n\n    .dataframe tbody tr th {\n        vertical-align: top;\n    }\n\n    .dataframe thead th {\n        text-align: right;\n    }\n</style>\n<table border=\"1\" class=\"dataframe\">\n  <thead>\n    <tr style=\"text-align: right;\">\n      <th></th>\n      <th>AllocationPct</th>\n      <th>AccountAllocations.Accounts.Description</th>\n    </tr>\n  </thead>\n  <tbody>\n    <tr>\n      <th>0</th>\n      <td>0</td>\n      <td>Fixed</td>\n    </tr>\n    <tr>\n      <th>1</th>\n      <td>0</td>\n      <td>FixedLT</td>\n    </tr>\n    <tr>\n      <th>2</th>\n      <td>0</td>\n      <td>1-Year Indexed Account</td>\n    </tr>\n    <tr>\n      <th>3</th>\n      <td>0</td>\n      <td>1-Year No Cap Indexed Account</td>\n    </tr>\n    <tr>\n      <th>4</th>\n      <td>0</td>\n      <td>1-Year High Cap Plus Indexed Account</td>\n    </tr>\n    <tr>\n      <th>5</th>\n      <td>100</td>\n      <td>Variable Account</td>\n    </tr>\n  </tbody>\n</table>\n</div>"
          },
          "metadata": {}
        }
      ]
    },
    {
      "cell_type": "code",
      "source": "#data3",
      "metadata": {},
      "execution_count": null,
      "outputs": []
    },
    {
      "cell_type": "code",
      "source": "df_allocations3 = pandas.json_normalize(data3, record_path = ['AccountAllocations', 'Accounts', 'FutureAllocations'], meta = [['AccountAllocations', 'Accounts', 'Key'], ['AccountAllocations', 'Accounts', 'Description']])[['AllocationPct', 'AccountAllocations.Accounts.Description']]",
      "metadata": {
        "trusted": true
      },
      "execution_count": 55,
      "outputs": []
    },
    {
      "cell_type": "code",
      "source": "df_allocations3",
      "metadata": {
        "trusted": true
      },
      "execution_count": 62,
      "outputs": [
        {
          "execution_count": 62,
          "output_type": "execute_result",
          "data": {
            "text/plain": "   AllocationPct AccountAllocations.Accounts.Description\n0              0                                   Fixed\n1              0                                 FixedLT\n2              0                  1-Year Indexed Account\n3              0           1-Year No Cap Indexed Account\n4              0    1-Year High Cap Plus Indexed Account\n5            100                        Variable Account",
            "text/html": "<div>\n<style scoped>\n    .dataframe tbody tr th:only-of-type {\n        vertical-align: middle;\n    }\n\n    .dataframe tbody tr th {\n        vertical-align: top;\n    }\n\n    .dataframe thead th {\n        text-align: right;\n    }\n</style>\n<table border=\"1\" class=\"dataframe\">\n  <thead>\n    <tr style=\"text-align: right;\">\n      <th></th>\n      <th>AllocationPct</th>\n      <th>AccountAllocations.Accounts.Description</th>\n    </tr>\n  </thead>\n  <tbody>\n    <tr>\n      <th>0</th>\n      <td>0</td>\n      <td>Fixed</td>\n    </tr>\n    <tr>\n      <th>1</th>\n      <td>0</td>\n      <td>FixedLT</td>\n    </tr>\n    <tr>\n      <th>2</th>\n      <td>0</td>\n      <td>1-Year Indexed Account</td>\n    </tr>\n    <tr>\n      <th>3</th>\n      <td>0</td>\n      <td>1-Year No Cap Indexed Account</td>\n    </tr>\n    <tr>\n      <th>4</th>\n      <td>0</td>\n      <td>1-Year High Cap Plus Indexed Account</td>\n    </tr>\n    <tr>\n      <th>5</th>\n      <td>100</td>\n      <td>Variable Account</td>\n    </tr>\n  </tbody>\n</table>\n</div>"
          },
          "metadata": {}
        }
      ]
    },
    {
      "cell_type": "code",
      "source": "merge = df_allocations.merge(df_allocations2, on = 'AccountAllocations.Accounts.Description')\nmerge = merge.merge(df_allocations3, on = 'AccountAllocations.Accounts.Description')\nmerge",
      "metadata": {
        "trusted": true
      },
      "execution_count": 64,
      "outputs": [
        {
          "execution_count": 64,
          "output_type": "execute_result",
          "data": {
            "text/plain": "   AllocationPct_x AccountAllocations.Accounts.Description  AllocationPct_y  \\\n0                0                                   Fixed                0   \n1                0                                 FixedLT                0   \n2                0                  1-Year Indexed Account                0   \n3                0           1-Year No Cap Indexed Account                0   \n4                0    1-Year High Cap Plus Indexed Account                0   \n5              100                        Variable Account              100   \n\n   AllocationPct  \n0              0  \n1              0  \n2              0  \n3              0  \n4              0  \n5            100  ",
            "text/html": "<div>\n<style scoped>\n    .dataframe tbody tr th:only-of-type {\n        vertical-align: middle;\n    }\n\n    .dataframe tbody tr th {\n        vertical-align: top;\n    }\n\n    .dataframe thead th {\n        text-align: right;\n    }\n</style>\n<table border=\"1\" class=\"dataframe\">\n  <thead>\n    <tr style=\"text-align: right;\">\n      <th></th>\n      <th>AllocationPct_x</th>\n      <th>AccountAllocations.Accounts.Description</th>\n      <th>AllocationPct_y</th>\n      <th>AllocationPct</th>\n    </tr>\n  </thead>\n  <tbody>\n    <tr>\n      <th>0</th>\n      <td>0</td>\n      <td>Fixed</td>\n      <td>0</td>\n      <td>0</td>\n    </tr>\n    <tr>\n      <th>1</th>\n      <td>0</td>\n      <td>FixedLT</td>\n      <td>0</td>\n      <td>0</td>\n    </tr>\n    <tr>\n      <th>2</th>\n      <td>0</td>\n      <td>1-Year Indexed Account</td>\n      <td>0</td>\n      <td>0</td>\n    </tr>\n    <tr>\n      <th>3</th>\n      <td>0</td>\n      <td>1-Year No Cap Indexed Account</td>\n      <td>0</td>\n      <td>0</td>\n    </tr>\n    <tr>\n      <th>4</th>\n      <td>0</td>\n      <td>1-Year High Cap Plus Indexed Account</td>\n      <td>0</td>\n      <td>0</td>\n    </tr>\n    <tr>\n      <th>5</th>\n      <td>100</td>\n      <td>Variable Account</td>\n      <td>100</td>\n      <td>100</td>\n    </tr>\n  </tbody>\n</table>\n</div>"
          },
          "metadata": {}
        }
      ]
    }
  ]
}